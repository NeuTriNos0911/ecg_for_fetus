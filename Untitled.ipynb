{
 "cells": [
  {
   "cell_type": "code",
   "execution_count": 1,
   "id": "86e260ae-f17f-4665-9e9d-1a1530f783a0",
   "metadata": {},
   "outputs": [
    {
     "name": "stdout",
     "output_type": "stream",
     "text": [
      "Requirement already satisfied: visdom in c:\\users\\dshaw\\anaconda3\\envs\\fecg\\lib\\site-packages (0.2.4)\n",
      "Requirement already satisfied: numpy>=1.8 in c:\\users\\dshaw\\anaconda3\\envs\\fecg\\lib\\site-packages (from visdom) (1.23.5)\n",
      "Requirement already satisfied: scipy in c:\\users\\dshaw\\anaconda3\\envs\\fecg\\lib\\site-packages (from visdom) (1.10.1)\n",
      "Requirement already satisfied: requests in c:\\users\\dshaw\\anaconda3\\envs\\fecg\\lib\\site-packages (from visdom) (2.32.3)\n",
      "Requirement already satisfied: tornado in c:\\users\\dshaw\\anaconda3\\envs\\fecg\\lib\\site-packages (from visdom) (6.4.1)\n",
      "Requirement already satisfied: six in c:\\users\\dshaw\\anaconda3\\envs\\fecg\\lib\\site-packages (from visdom) (1.16.0)\n",
      "Requirement already satisfied: jsonpatch in c:\\users\\dshaw\\anaconda3\\envs\\fecg\\lib\\site-packages (from visdom) (1.33)\n",
      "Requirement already satisfied: websocket-client in c:\\users\\dshaw\\anaconda3\\envs\\fecg\\lib\\site-packages (from visdom) (1.8.0)\n",
      "Requirement already satisfied: networkx in c:\\users\\dshaw\\anaconda3\\envs\\fecg\\lib\\site-packages (from visdom) (3.1)\n",
      "Requirement already satisfied: pillow in c:\\users\\dshaw\\anaconda3\\envs\\fecg\\lib\\site-packages (from visdom) (9.4.0)\n",
      "Requirement already satisfied: jsonpointer>=1.9 in c:\\users\\dshaw\\anaconda3\\envs\\fecg\\lib\\site-packages (from jsonpatch->visdom) (3.0.0)\n",
      "Requirement already satisfied: charset-normalizer<4,>=2 in c:\\users\\dshaw\\anaconda3\\envs\\fecg\\lib\\site-packages (from requests->visdom) (3.4.2)\n",
      "Requirement already satisfied: idna<4,>=2.5 in c:\\users\\dshaw\\anaconda3\\envs\\fecg\\lib\\site-packages (from requests->visdom) (3.10)\n",
      "Requirement already satisfied: urllib3<3,>=1.21.1 in c:\\users\\dshaw\\anaconda3\\envs\\fecg\\lib\\site-packages (from requests->visdom) (1.26.20)\n",
      "Requirement already satisfied: certifi>=2017.4.17 in c:\\users\\dshaw\\anaconda3\\envs\\fecg\\lib\\site-packages (from requests->visdom) (2024.8.30)\n",
      "Note: you may need to restart the kernel to use updated packages.\n"
     ]
    }
   ],
   "source": [
    "pip install visdom\n"
   ]
  },
  {
   "cell_type": "code",
   "execution_count": 2,
   "id": "e7b4c257-0490-4657-9cb5-3963d0e66fac",
   "metadata": {},
   "outputs": [],
   "source": [
    "import visdom"
   ]
  },
  {
   "cell_type": "code",
   "execution_count": 3,
   "id": "3ef22ba7-7914-48d4-ad80-eb0a0f67a609",
   "metadata": {},
   "outputs": [
    {
     "data": {
      "text/plain": [
       "<module 'visdom' from 'C:\\\\Users\\\\dshaw\\\\anaconda3\\\\envs\\\\fecg\\\\lib\\\\site-packages\\\\visdom\\\\__init__.py'>"
      ]
     },
     "execution_count": 3,
     "metadata": {},
     "output_type": "execute_result"
    }
   ],
   "source": [
    "visdom\n",
    "\n"
   ]
  },
  {
   "cell_type": "code",
   "execution_count": 31,
   "id": "dc6fe13f-4823-401c-96d5-2bc4f3b09ea1",
   "metadata": {
    "scrolled": true
   },
   "outputs": [
    {
     "name": "stdout",
     "output_type": "stream",
     "text": [
      "Importing\n",
      "done importing\n",
      "running main\n",
      "----------------- Options ---------------\n",
      "               batch_size: 1                             \n",
      "                    beta1: 0.5                           \n",
      "          checkpoints_dir: ./checkpoints                 \n",
      "           continue_train: False                         \n",
      "                crop_size: 256                           \n",
      "                 dataroot: ./data/adbecg                 \t[default: None]\n",
      "             dataset_mode: aligned                       \n",
      "                direction: AtoB                          \n",
      "              display_env: main                          \n",
      "             display_freq: 400                           \n",
      "               display_id: 1                             \n",
      "            display_ncols: 4                             \n",
      "             display_port: 8097                          \n",
      "           display_server: http://localhost              \n",
      "          display_winsize: 256                           \n",
      "                    epoch: latest                        \n",
      "              epoch_count: 1                             \n",
      "                 gan_mode: vanilla                       \n",
      "                  gpu_ids: -1                            \t[default: 0]\n",
      "                init_gain: 0.02                          \n",
      "                init_type: normal                        \n",
      "                 input_nc: 3                             \n",
      "                  isTrain: True                          \t[default: None]\n",
      "                lambda_L1: 100.0                         \n",
      "                load_iter: 0                             \t[default: 0]\n",
      "                load_size: 286                           \n",
      "                       lr: 0.0002                        \n",
      "           lr_decay_iters: 50                            \n",
      "                lr_policy: linear                        \n",
      "         max_dataset_size: inf                           \n",
      "                    model: pix2pix                       \n",
      "                 n_epochs: 5                             \t[default: 100]\n",
      "           n_epochs_decay: 5                             \t[default: 100]\n",
      "               n_layers_D: 3                             \n",
      "                     name: fecg_p2p                      \t[default: experiment_name]\n",
      "                      ndf: 64                            \n",
      "                     netD: basic                         \n",
      "                     netG: unet_256                      \n",
      "                      ngf: 64                            \n",
      "               no_dropout: False                         \n",
      "                  no_flip: False                         \n",
      "                  no_html: False                         \n",
      "                     norm: batch                         \n",
      "              num_threads: 4                             \n",
      "                output_nc: 3                             \n",
      "                    phase: train                         \n",
      "                pool_size: 0                             \n",
      "               preprocess: resize_and_crop               \n",
      "               print_freq: 100                           \n",
      "             save_by_iter: False                         \n",
      "          save_epoch_freq: 5                             \n",
      "         save_latest_freq: 5000                          \n",
      "           serial_batches: False                         \n",
      "                   suffix:                               \n",
      "         update_html_freq: 1000                          \n",
      "                use_wandb: False                         \n",
      "                  verbose: False                         \n",
      "       wandb_project_name: CycleGAN-and-pix2pix          \n",
      "----------------- End -------------------\n",
      "The number of training images = 9224\n",
      "initialize network with normal\n",
      "initialize network with normal\n",
      "---------- Networks initialized -------------\n",
      "[Network G] Total number of parameters : 54.414 M\n",
      "[Network D] Total number of parameters : 2.769 M\n",
      "-----------------------------------------------\n",
      "create web directory ./checkpoints\\fecg_p2p\\web...\n",
      "learning rate 0.0002000 -> 0.0002000\n",
      "running\n"
     ]
    },
    {
     "name": "stderr",
     "output_type": "stream",
     "text": [
      "Setting up a new session...\n",
      "C:\\Users\\dshaw\\anaconda3\\envs\\fecg\\lib\\site-packages\\torch\\optim\\lr_scheduler.py:129: UserWarning: Detected call of `lr_scheduler.step()` before `optimizer.step()`. In PyTorch 1.1.0 and later, you should call them in the opposite order: `optimizer.step()` before `lr_scheduler.step()`.  Failure to do this will result in PyTorch skipping the first value of the learning rate schedule. See more details at https://pytorch.org/docs/stable/optim.html#how-to-adjust-learning-rate\n",
      "  warnings.warn(\"Detected call of `lr_scheduler.step()` before `optimizer.step()`. \"\n",
      "Traceback (most recent call last):\n",
      "  File \"train.py\", line 56, in <module>\n",
      "    model.set_input(data)         # unpack data from dataset and apply preprocessing\n",
      "  File \"C:\\Users\\dshaw\\fECG_cGAN\\models\\pix2pix_model.py\", line 83, in set_input\n",
      "    self.real_B = input['B' if AtoB else 'A'].to(self.device)\n",
      "KeyError: 'B'\n"
     ]
    }
   ],
   "source": [
    "!python train.py --dataroot ./data/adbecg --name fecg_p2p --model pix2pix --direction AtoB --gpu_ids -1 --n_epochs 5 --n_epochs_decay 5 --num_threads 4"
   ]
  },
  {
   "cell_type": "code",
   "execution_count": null,
   "id": "67fa902d-d10d-40d6-ad9b-6c2c2024a83a",
   "metadata": {},
   "outputs": [],
   "source": []
  },
  {
   "cell_type": "code",
   "execution_count": null,
   "id": "5ddb4ddc-c8c1-4d8c-a1c3-b188301802c3",
   "metadata": {},
   "outputs": [],
   "source": []
  }
 ],
 "metadata": {
  "kernelspec": {
   "display_name": "Python 3 (ipykernel)",
   "language": "python",
   "name": "python3"
  },
  "language_info": {
   "codemirror_mode": {
    "name": "ipython",
    "version": 3
   },
   "file_extension": ".py",
   "mimetype": "text/x-python",
   "name": "python",
   "nbconvert_exporter": "python",
   "pygments_lexer": "ipython3",
   "version": "3.8.20"
  }
 },
 "nbformat": 4,
 "nbformat_minor": 5
}
